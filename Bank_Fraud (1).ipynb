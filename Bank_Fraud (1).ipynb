{
 "cells": [
  {
   "cell_type": "markdown",
   "metadata": {},
   "source": [
    "## Fraud Detection Notebook\n",
    "### Team Members: Bismah Khan and Farooq Husain\n",
    "### Date: 26 July 2021"
   ]
  },
  {
   "cell_type": "markdown",
   "metadata": {},
   "source": [
    "| Column Name |                                                                       Description                                                                       |\n",
    "|:-----------:|:-------------------------------------------------------------------------------------------------------------------------------------------------------:|\n",
    "|     Step    |                This feature represents the day from the start of simulation. It has 180   steps so simulation ran for virtually 6 months.               |\n",
    "|   Customer  |                                             This is the unique customer ID which is assigned to a customer.                                             |\n",
    "|     Age     | These are the age brackets assigned to the relevant customers. 0: <=   18,  1: 19-25, 2: 26-35, 3: 36-45, 4:   46:55, 5: 56:65, 6: > 65 and U: Unknown. |\n",
    "|    Gender   |                                   Gender of the customer - F -> Female , M -> Male , U -> Unknown,   E -> Enterprise.                                   |\n",
    "|  zipcodeOri |                                                                Zip code of the customer.                                                                |\n",
    "|   merchant  |                                               It is the the unique ID attributed to a particular Merchant.                                              |\n",
    "| zipMerchant |                                                                 Zip code of the merchant                                                                |\n",
    "|   category  |                                       Line of business of the merchant or the services provided by the   merchant.                                      |\n",
    "|    amount   |                                                   The amount of transaction performed by the customer                                                   |\n",
    "|    fraud    |                                             0 indicates genuine transaction, 1 indicates fraudulent activity                                            |"
   ]
  },
  {
   "cell_type": "markdown",
   "metadata": {},
   "source": [
    "## Goal of the project:\n",
    "\n",
    "1. Identify the characteristics of fraudulent transactions;\n",
    "2. Evaluate fraudulent transactions to determine if they follow any predetermined pattern e.g. round-sum transactions, amounts involved in the transactions, sectors most susceptible to fraud etc;\n",
    "3. Determine if fraudulent transactions were common within a specific age-group, gender or entity;\n",
    "4. Choose a suitable machine learning model to predict fraudulent transactions based on the identified characteristics accompanying fraudulent transactions;\n",
    "5. Analyse limitations of the Machine Learning Model.\n",
    "\n",
    "\n"
   ]
  },
  {
   "cell_type": "markdown",
   "metadata": {},
   "source": [
    "## EDA"
   ]
  },
  {
   "cell_type": "code",
   "execution_count": 137,
   "metadata": {},
   "outputs": [],
   "source": [
    "import pandas as pd\n",
    "import matplotlib.pyplot as plt\n",
    "import numpy as np\n",
    "import seaborn as sns\n",
    "\n",
    "%matplotlib inline"
   ]
  },
  {
   "cell_type": "code",
   "execution_count": 138,
   "metadata": {},
   "outputs": [],
   "source": [
    "bankFraud = pd.read_csv('./bs140513_032310.csv')"
   ]
  },
  {
   "cell_type": "code",
   "execution_count": 139,
   "metadata": {},
   "outputs": [
    {
     "data": {
      "text/html": [
       "<div>\n",
       "<style scoped>\n",
       "    .dataframe tbody tr th:only-of-type {\n",
       "        vertical-align: middle;\n",
       "    }\n",
       "\n",
       "    .dataframe tbody tr th {\n",
       "        vertical-align: top;\n",
       "    }\n",
       "\n",
       "    .dataframe thead th {\n",
       "        text-align: right;\n",
       "    }\n",
       "</style>\n",
       "<table border=\"1\" class=\"dataframe\">\n",
       "  <thead>\n",
       "    <tr style=\"text-align: right;\">\n",
       "      <th></th>\n",
       "      <th>step</th>\n",
       "      <th>customer</th>\n",
       "      <th>age</th>\n",
       "      <th>gender</th>\n",
       "      <th>zipcodeOri</th>\n",
       "      <th>merchant</th>\n",
       "      <th>zipMerchant</th>\n",
       "      <th>category</th>\n",
       "      <th>amount</th>\n",
       "      <th>fraud</th>\n",
       "    </tr>\n",
       "  </thead>\n",
       "  <tbody>\n",
       "    <tr>\n",
       "      <th>0</th>\n",
       "      <td>0</td>\n",
       "      <td>'C1093826151'</td>\n",
       "      <td>4</td>\n",
       "      <td>M</td>\n",
       "      <td>'28007'</td>\n",
       "      <td>'M348934600'</td>\n",
       "      <td>'28007'</td>\n",
       "      <td>'es_transportation'</td>\n",
       "      <td>4.55</td>\n",
       "      <td>0</td>\n",
       "    </tr>\n",
       "    <tr>\n",
       "      <th>1</th>\n",
       "      <td>0</td>\n",
       "      <td>'C352968107'</td>\n",
       "      <td>2</td>\n",
       "      <td>M</td>\n",
       "      <td>'28007'</td>\n",
       "      <td>'M348934600'</td>\n",
       "      <td>'28007'</td>\n",
       "      <td>'es_transportation'</td>\n",
       "      <td>39.68</td>\n",
       "      <td>0</td>\n",
       "    </tr>\n",
       "    <tr>\n",
       "      <th>2</th>\n",
       "      <td>0</td>\n",
       "      <td>'C2054744914'</td>\n",
       "      <td>4</td>\n",
       "      <td>F</td>\n",
       "      <td>'28007'</td>\n",
       "      <td>'M1823072687'</td>\n",
       "      <td>'28007'</td>\n",
       "      <td>'es_transportation'</td>\n",
       "      <td>26.89</td>\n",
       "      <td>0</td>\n",
       "    </tr>\n",
       "    <tr>\n",
       "      <th>3</th>\n",
       "      <td>0</td>\n",
       "      <td>'C1760612790'</td>\n",
       "      <td>3</td>\n",
       "      <td>M</td>\n",
       "      <td>'28007'</td>\n",
       "      <td>'M348934600'</td>\n",
       "      <td>'28007'</td>\n",
       "      <td>'es_transportation'</td>\n",
       "      <td>17.25</td>\n",
       "      <td>0</td>\n",
       "    </tr>\n",
       "    <tr>\n",
       "      <th>4</th>\n",
       "      <td>0</td>\n",
       "      <td>'C757503768'</td>\n",
       "      <td>5</td>\n",
       "      <td>M</td>\n",
       "      <td>'28007'</td>\n",
       "      <td>'M348934600'</td>\n",
       "      <td>'28007'</td>\n",
       "      <td>'es_transportation'</td>\n",
       "      <td>35.72</td>\n",
       "      <td>0</td>\n",
       "    </tr>\n",
       "  </tbody>\n",
       "</table>\n",
       "</div>"
      ],
      "text/plain": [
       "   step       customer age gender zipcodeOri       merchant zipMerchant  \\\n",
       "0     0  'C1093826151'   4      M    '28007'   'M348934600'     '28007'   \n",
       "1     0   'C352968107'   2      M    '28007'   'M348934600'     '28007'   \n",
       "2     0  'C2054744914'   4      F    '28007'  'M1823072687'     '28007'   \n",
       "3     0  'C1760612790'   3      M    '28007'   'M348934600'     '28007'   \n",
       "4     0   'C757503768'   5      M    '28007'   'M348934600'     '28007'   \n",
       "\n",
       "              category  amount  fraud  \n",
       "0  'es_transportation'    4.55      0  \n",
       "1  'es_transportation'   39.68      0  \n",
       "2  'es_transportation'   26.89      0  \n",
       "3  'es_transportation'   17.25      0  \n",
       "4  'es_transportation'   35.72      0  "
      ]
     },
     "execution_count": 139,
     "metadata": {},
     "output_type": "execute_result"
    }
   ],
   "source": [
    "bankFraud.head()"
   ]
  },
  {
   "cell_type": "markdown",
   "metadata": {},
   "source": [
    "We noted that the columns titled ***'zipcodeOri'*** and ***'zipMerchant'*** had only one value of ***'28007'***. Since all entries had the same entry in these two columns, we decided to remove these columns since they would not prove useful in our machine learning model.\n",
    "\n",
    "We also decided to remove the ***\"step\"*** column since we understand that it is the count of day for the whole simulation and would have little impact on training the machine learning model."
   ]
  },
  {
   "cell_type": "code",
   "execution_count": 140,
   "metadata": {},
   "outputs": [],
   "source": [
    "# Removing inverted commas from the relevant columns to assist with mapping later in the data analysis.\n",
    "bankFraud.loc[:, 'customer']= bankFraud.loc[:,'customer'].str.replace(\"'\",\"\")\n",
    "bankFraud.loc[:, 'age']= bankFraud.loc[:,'age'].str.replace(\"'\",\"\")\n",
    "bankFraud.loc[:, 'gender']= bankFraud.loc[:,'gender'].str.replace(\"'\",\"\")\n",
    "bankFraud.loc[:, 'merchant']= bankFraud.loc[:,'merchant'].str.replace(\"'\",\"\")\n",
    "bankFraud.loc[:, 'category']= bankFraud.loc[:,'category'].str.replace(\"'\",\"\")"
   ]
  },
  {
   "cell_type": "code",
   "execution_count": 141,
   "metadata": {},
   "outputs": [
    {
     "data": {
      "text/html": [
       "<div>\n",
       "<style scoped>\n",
       "    .dataframe tbody tr th:only-of-type {\n",
       "        vertical-align: middle;\n",
       "    }\n",
       "\n",
       "    .dataframe tbody tr th {\n",
       "        vertical-align: top;\n",
       "    }\n",
       "\n",
       "    .dataframe thead th {\n",
       "        text-align: right;\n",
       "    }\n",
       "</style>\n",
       "<table border=\"1\" class=\"dataframe\">\n",
       "  <thead>\n",
       "    <tr style=\"text-align: right;\">\n",
       "      <th></th>\n",
       "      <th>step</th>\n",
       "      <th>customer</th>\n",
       "      <th>age</th>\n",
       "      <th>gender</th>\n",
       "      <th>zipcodeOri</th>\n",
       "      <th>merchant</th>\n",
       "      <th>zipMerchant</th>\n",
       "      <th>category</th>\n",
       "      <th>amount</th>\n",
       "      <th>fraud</th>\n",
       "    </tr>\n",
       "  </thead>\n",
       "  <tbody>\n",
       "    <tr>\n",
       "      <th>0</th>\n",
       "      <td>0</td>\n",
       "      <td>C1093826151</td>\n",
       "      <td>4</td>\n",
       "      <td>M</td>\n",
       "      <td>'28007'</td>\n",
       "      <td>M348934600</td>\n",
       "      <td>'28007'</td>\n",
       "      <td>es_transportation</td>\n",
       "      <td>4.55</td>\n",
       "      <td>0</td>\n",
       "    </tr>\n",
       "    <tr>\n",
       "      <th>1</th>\n",
       "      <td>0</td>\n",
       "      <td>C352968107</td>\n",
       "      <td>2</td>\n",
       "      <td>M</td>\n",
       "      <td>'28007'</td>\n",
       "      <td>M348934600</td>\n",
       "      <td>'28007'</td>\n",
       "      <td>es_transportation</td>\n",
       "      <td>39.68</td>\n",
       "      <td>0</td>\n",
       "    </tr>\n",
       "    <tr>\n",
       "      <th>2</th>\n",
       "      <td>0</td>\n",
       "      <td>C2054744914</td>\n",
       "      <td>4</td>\n",
       "      <td>F</td>\n",
       "      <td>'28007'</td>\n",
       "      <td>M1823072687</td>\n",
       "      <td>'28007'</td>\n",
       "      <td>es_transportation</td>\n",
       "      <td>26.89</td>\n",
       "      <td>0</td>\n",
       "    </tr>\n",
       "    <tr>\n",
       "      <th>3</th>\n",
       "      <td>0</td>\n",
       "      <td>C1760612790</td>\n",
       "      <td>3</td>\n",
       "      <td>M</td>\n",
       "      <td>'28007'</td>\n",
       "      <td>M348934600</td>\n",
       "      <td>'28007'</td>\n",
       "      <td>es_transportation</td>\n",
       "      <td>17.25</td>\n",
       "      <td>0</td>\n",
       "    </tr>\n",
       "    <tr>\n",
       "      <th>4</th>\n",
       "      <td>0</td>\n",
       "      <td>C757503768</td>\n",
       "      <td>5</td>\n",
       "      <td>M</td>\n",
       "      <td>'28007'</td>\n",
       "      <td>M348934600</td>\n",
       "      <td>'28007'</td>\n",
       "      <td>es_transportation</td>\n",
       "      <td>35.72</td>\n",
       "      <td>0</td>\n",
       "    </tr>\n",
       "  </tbody>\n",
       "</table>\n",
       "</div>"
      ],
      "text/plain": [
       "   step     customer age gender zipcodeOri     merchant zipMerchant  \\\n",
       "0     0  C1093826151   4      M    '28007'   M348934600     '28007'   \n",
       "1     0   C352968107   2      M    '28007'   M348934600     '28007'   \n",
       "2     0  C2054744914   4      F    '28007'  M1823072687     '28007'   \n",
       "3     0  C1760612790   3      M    '28007'   M348934600     '28007'   \n",
       "4     0   C757503768   5      M    '28007'   M348934600     '28007'   \n",
       "\n",
       "            category  amount  fraud  \n",
       "0  es_transportation    4.55      0  \n",
       "1  es_transportation   39.68      0  \n",
       "2  es_transportation   26.89      0  \n",
       "3  es_transportation   17.25      0  \n",
       "4  es_transportation   35.72      0  "
      ]
     },
     "execution_count": 141,
     "metadata": {},
     "output_type": "execute_result"
    }
   ],
   "source": [
    "bankFraud.head()\n",
    "# We can see that the single inverted commas have been removed"
   ]
  },
  {
   "cell_type": "code",
   "execution_count": 142,
   "metadata": {},
   "outputs": [],
   "source": [
    "unwantedFeatures = ['zipcodeOri','zipMerchant','step','customer','merchant']\n",
    "features = bankFraud.drop(unwantedFeatures, axis=1, inplace=True)"
   ]
  },
  {
   "cell_type": "code",
   "execution_count": 143,
   "metadata": {},
   "outputs": [
    {
     "data": {
      "text/plain": [
       "age         0\n",
       "gender      0\n",
       "category    0\n",
       "amount      0\n",
       "fraud       0\n",
       "dtype: int64"
      ]
     },
     "execution_count": 143,
     "metadata": {},
     "output_type": "execute_result"
    }
   ],
   "source": [
    "# Counts missing value in the data frame\n",
    "bankFraud.isnull().sum()"
   ]
  },
  {
   "cell_type": "markdown",
   "metadata": {},
   "source": [
    "With this method, we have concluded that there are no missing values"
   ]
  },
  {
   "cell_type": "code",
   "execution_count": 144,
   "metadata": {},
   "outputs": [
    {
     "name": "stdout",
     "output_type": "stream",
     "text": [
      "          age                                                        gender  \\\n",
      "        count unique top    freq mean  std  min  25%  50%  75%  max   count   \n",
      "fraud                                                                         \n",
      "0      587443      8   2  184966  NaN  NaN  NaN  NaN  NaN  NaN  NaN  587443   \n",
      "1        7200      8   2    2344  NaN  NaN  NaN  NaN  NaN  NaN  NaN    7200   \n",
      "\n",
      "                                                            category         \\\n",
      "      unique top    freq mean  std  min  25%  50%  75%  max    count unique   \n",
      "fraud                                                                         \n",
      "0          4   F  319807  NaN  NaN  NaN  NaN  NaN  NaN  NaN   587443     15   \n",
      "1          3   F    4758  NaN  NaN  NaN  NaN  NaN  NaN  NaN     7200     12   \n",
      "\n",
      "                                                                       amount  \\\n",
      "                     top    freq mean  std  min  25%  50%  75%  max     count   \n",
      "fraud                                                                           \n",
      "0      es_transportation  505119  NaN  NaN  NaN  NaN  NaN  NaN  NaN  587443.0   \n",
      "1       es_sportsandtoys    1982  NaN  NaN  NaN  NaN  NaN  NaN  NaN    7200.0   \n",
      "\n",
      "                                                                      \\\n",
      "      unique top freq        mean         std   min     25%      50%   \n",
      "fraud                                                                  \n",
      "0        NaN NaN  NaN   31.847230   31.470876  0.00   13.59   26.610   \n",
      "1        NaN NaN  NaN  530.926551  835.587112  0.03  159.98  319.175   \n",
      "\n",
      "                          \n",
      "            75%      max  \n",
      "fraud                     \n",
      "0       41.8950  2144.86  \n",
      "1      548.9775  8329.96  \n"
     ]
    }
   ],
   "source": [
    "with pd.option_context('display.max_columns', 66):\n",
    "     print(bankFraud.groupby('fraud').describe(include='all'))"
   ]
  },
  {
   "cell_type": "markdown",
   "metadata": {},
   "source": [
    "### From the describe method, we've learned the following: \n",
    "\n",
    "1. **Total Number of Fraudulent Activities***: 7200\n",
    "2. ***Total Number of Unique Merchants***: 50\n",
    "3. ***Total Number of Unique Customers Involved in Fraudulent Activities***: 1483 (36.07% of the customers)\n",
    "4. ***Mean Avg of Genuine Transactions***: Approx 32 dollars\n",
    "5. ***Mean Avg of Fraudulent Transactions***: Approx 531 dollars\n",
    "6. ***Max Amount of Single Fraudulent Transaction***: Approx 8330 dollars\n",
    "7. Customer ***'C1350963410'*** has indulged in 144 fraudulent transactions\n",
    "8. Least Amount of Non-Fraudulent Transaction: 0 dollars -> These rows can be dropped since they're useless"
   ]
  },
  {
   "cell_type": "code",
   "execution_count": 145,
   "metadata": {},
   "outputs": [],
   "source": [
    "# Least Amount of Non-Fraudulent Transaction: 0 dollars -> These rows can be dropped since they're useless & outliers\n",
    "bankFraud.drop(bankFraud.loc[bankFraud['amount']==0].index, inplace=True)"
   ]
  },
  {
   "cell_type": "code",
   "execution_count": 146,
   "metadata": {},
   "outputs": [],
   "source": [
    "# We've replaced the string 'U' that describes the Unknown values in the age column and assigned it to the key '7'\n",
    "bankFraud['age'] = bankFraud['age'].replace('U','7')"
   ]
  },
  {
   "cell_type": "code",
   "execution_count": 147,
   "metadata": {},
   "outputs": [
    {
     "name": "stdout",
     "output_type": "stream",
     "text": [
      "<class 'pandas.core.frame.DataFrame'>\n",
      "Int64Index: 594591 entries, 0 to 594642\n",
      "Data columns (total 5 columns):\n",
      " #   Column    Non-Null Count   Dtype  \n",
      "---  ------    --------------   -----  \n",
      " 0   age       594591 non-null  int64  \n",
      " 1   gender    594591 non-null  object \n",
      " 2   category  594591 non-null  object \n",
      " 3   amount    594591 non-null  float64\n",
      " 4   fraud     594591 non-null  int64  \n",
      "dtypes: float64(1), int64(2), object(2)\n",
      "memory usage: 27.2+ MB\n"
     ]
    }
   ],
   "source": [
    "# We used this method to convert column age which was intially documented as string to an integer to facilitate our analysis.\n",
    "bankFraud['age'] = bankFraud['age'].apply(pd.to_numeric)\n",
    "bankFraud.info()"
   ]
  },
  {
   "cell_type": "code",
   "execution_count": 148,
   "metadata": {},
   "outputs": [
    {
     "data": {
      "text/html": [
       "<div>\n",
       "<style scoped>\n",
       "    .dataframe tbody tr th:only-of-type {\n",
       "        vertical-align: middle;\n",
       "    }\n",
       "\n",
       "    .dataframe tbody tr th {\n",
       "        vertical-align: top;\n",
       "    }\n",
       "\n",
       "    .dataframe thead th {\n",
       "        text-align: right;\n",
       "    }\n",
       "</style>\n",
       "<table border=\"1\" class=\"dataframe\">\n",
       "  <thead>\n",
       "    <tr style=\"text-align: right;\">\n",
       "      <th>fraud</th>\n",
       "      <th>0</th>\n",
       "      <th>1</th>\n",
       "    </tr>\n",
       "    <tr>\n",
       "      <th>gender</th>\n",
       "      <th></th>\n",
       "      <th></th>\n",
       "    </tr>\n",
       "  </thead>\n",
       "  <tbody>\n",
       "    <tr>\n",
       "      <th>E</th>\n",
       "      <td>1170.0</td>\n",
       "      <td>7.0</td>\n",
       "    </tr>\n",
       "    <tr>\n",
       "      <th>F</th>\n",
       "      <td>319780.0</td>\n",
       "      <td>4758.0</td>\n",
       "    </tr>\n",
       "    <tr>\n",
       "      <th>M</th>\n",
       "      <td>265926.0</td>\n",
       "      <td>2435.0</td>\n",
       "    </tr>\n",
       "    <tr>\n",
       "      <th>U</th>\n",
       "      <td>515.0</td>\n",
       "      <td>NaN</td>\n",
       "    </tr>\n",
       "  </tbody>\n",
       "</table>\n",
       "</div>"
      ],
      "text/plain": [
       "fraud          0       1\n",
       "gender                  \n",
       "E         1170.0     7.0\n",
       "F       319780.0  4758.0\n",
       "M       265926.0  2435.0\n",
       "U          515.0     NaN"
      ]
     },
     "execution_count": 148,
     "metadata": {},
     "output_type": "execute_result"
    }
   ],
   "source": [
    "bankFraud.pivot_table('amount', index='gender', columns='fraud', aggfunc='count')"
   ]
  },
  {
   "cell_type": "markdown",
   "metadata": {},
   "source": [
    "We have 515 Unknown values for gender and none of these transactions are involved in any fraudulent activities so we've deemed this to be insignificant and have decided to drop it from our data."
   ]
  },
  {
   "cell_type": "code",
   "execution_count": 149,
   "metadata": {},
   "outputs": [],
   "source": [
    "for index, row in bankFraud.iterrows():\n",
    "   if row['gender'] == 'U':\n",
    "        bankFraud.drop(index, inplace=True)"
   ]
  },
  {
   "cell_type": "code",
   "execution_count": 150,
   "metadata": {},
   "outputs": [],
   "source": [
    "# Convert 'Gender' to 1,2,3 instead of F,M,E\n",
    "# .map() will map values in the original to values in the specified data\n",
    "genderFlag = {\n",
    "    'F': 1,\n",
    "    'M': 2,\n",
    "    'E': 3,\n",
    "}\n",
    "\n",
    "bankFraud['gender'] = bankFraud['gender'].map(genderFlag)"
   ]
  },
  {
   "cell_type": "code",
   "execution_count": 151,
   "metadata": {},
   "outputs": [],
   "source": [
    "bankFraud_fraud = bankFraud.loc[bankFraud.fraud == 1]"
   ]
  },
  {
   "cell_type": "code",
   "execution_count": 152,
   "metadata": {},
   "outputs": [
    {
     "data": {
      "text/plain": [
       "Text(0.5, 1.0, 'Group data by Gender')"
      ]
     },
     "execution_count": 152,
     "metadata": {},
     "output_type": "execute_result"
    },
    {
     "data": {
      "image/png": "[encoded data removed]",
      "text/plain": [
       "<Figure size 432x288 with 1 Axes>"
      ]
     },
     "metadata": {
      "needs_background": "light"
     },
     "output_type": "display_data"
    }
   ],
   "source": [
    "plt.figure()\n",
    "fig = sns.countplot(x='gender', data=bankFraud_fraud)\n",
    "plt.title('Group data by Gender')\n",
    "\n",
    "# Female : 1\n",
    "# Male : 2\n",
    "# Enterprise : 3"
   ]
  },
  {
   "cell_type": "markdown",
   "metadata": {},
   "source": [
    "From the above figure, it can be determined that **females** are involved in double the amount of fraudulent activities than **males**."
   ]
  },
  {
   "cell_type": "code",
   "execution_count": 153,
   "metadata": {},
   "outputs": [
    {
     "data": {
      "text/html": [
       "<div>\n",
       "<style scoped>\n",
       "    .dataframe tbody tr th:only-of-type {\n",
       "        vertical-align: middle;\n",
       "    }\n",
       "\n",
       "    .dataframe tbody tr th {\n",
       "        vertical-align: top;\n",
       "    }\n",
       "\n",
       "    .dataframe thead th {\n",
       "        text-align: right;\n",
       "    }\n",
       "</style>\n",
       "<table border=\"1\" class=\"dataframe\">\n",
       "  <thead>\n",
       "    <tr style=\"text-align: right;\">\n",
       "      <th>fraud</th>\n",
       "      <th>0</th>\n",
       "      <th>1</th>\n",
       "    </tr>\n",
       "    <tr>\n",
       "      <th>category</th>\n",
       "      <th></th>\n",
       "      <th></th>\n",
       "    </tr>\n",
       "  </thead>\n",
       "  <tbody>\n",
       "    <tr>\n",
       "      <th>es_barsandrestaurants</th>\n",
       "      <td>6250.0</td>\n",
       "      <td>120.0</td>\n",
       "    </tr>\n",
       "    <tr>\n",
       "      <th>es_contents</th>\n",
       "      <td>885.0</td>\n",
       "      <td>NaN</td>\n",
       "    </tr>\n",
       "    <tr>\n",
       "      <th>es_fashion</th>\n",
       "      <td>6332.0</td>\n",
       "      <td>116.0</td>\n",
       "    </tr>\n",
       "    <tr>\n",
       "      <th>es_food</th>\n",
       "      <td>26224.0</td>\n",
       "      <td>NaN</td>\n",
       "    </tr>\n",
       "    <tr>\n",
       "      <th>es_health</th>\n",
       "      <td>14416.0</td>\n",
       "      <td>1696.0</td>\n",
       "    </tr>\n",
       "    <tr>\n",
       "      <th>es_home</th>\n",
       "      <td>1682.0</td>\n",
       "      <td>302.0</td>\n",
       "    </tr>\n",
       "    <tr>\n",
       "      <th>es_hotelservices</th>\n",
       "      <td>1196.0</td>\n",
       "      <td>548.0</td>\n",
       "    </tr>\n",
       "    <tr>\n",
       "      <th>es_hyper</th>\n",
       "      <td>5816.0</td>\n",
       "      <td>280.0</td>\n",
       "    </tr>\n",
       "    <tr>\n",
       "      <th>es_leisure</th>\n",
       "      <td>25.0</td>\n",
       "      <td>474.0</td>\n",
       "    </tr>\n",
       "    <tr>\n",
       "      <th>es_otherservices</th>\n",
       "      <td>684.0</td>\n",
       "      <td>228.0</td>\n",
       "    </tr>\n",
       "    <tr>\n",
       "      <th>es_sportsandtoys</th>\n",
       "      <td>2020.0</td>\n",
       "      <td>1982.0</td>\n",
       "    </tr>\n",
       "    <tr>\n",
       "      <th>es_tech</th>\n",
       "      <td>2207.0</td>\n",
       "      <td>158.0</td>\n",
       "    </tr>\n",
       "    <tr>\n",
       "      <th>es_transportation</th>\n",
       "      <td>504626.0</td>\n",
       "      <td>NaN</td>\n",
       "    </tr>\n",
       "    <tr>\n",
       "      <th>es_travel</th>\n",
       "      <td>150.0</td>\n",
       "      <td>578.0</td>\n",
       "    </tr>\n",
       "    <tr>\n",
       "      <th>es_wellnessandbeauty</th>\n",
       "      <td>14363.0</td>\n",
       "      <td>718.0</td>\n",
       "    </tr>\n",
       "  </tbody>\n",
       "</table>\n",
       "</div>"
      ],
      "text/plain": [
       "fraud                         0       1\n",
       "category                               \n",
       "es_barsandrestaurants    6250.0   120.0\n",
       "es_contents               885.0     NaN\n",
       "es_fashion               6332.0   116.0\n",
       "es_food                 26224.0     NaN\n",
       "es_health               14416.0  1696.0\n",
       "es_home                  1682.0   302.0\n",
       "es_hotelservices         1196.0   548.0\n",
       "es_hyper                 5816.0   280.0\n",
       "es_leisure                 25.0   474.0\n",
       "es_otherservices          684.0   228.0\n",
       "es_sportsandtoys         2020.0  1982.0\n",
       "es_tech                  2207.0   158.0\n",
       "es_transportation      504626.0     NaN\n",
       "es_travel                 150.0   578.0\n",
       "es_wellnessandbeauty    14363.0   718.0"
      ]
     },
     "execution_count": 153,
     "metadata": {},
     "output_type": "execute_result"
    }
   ],
   "source": [
    "bankFraud.pivot_table('amount', index='category', columns='fraud', aggfunc='count')"
   ]
  },
  {
   "cell_type": "markdown",
   "metadata": {},
   "source": [
    "The table above shows that the below categories were not associated with any fraudulent transactions\n",
    "\n",
    "**1. es_contents**\n",
    "**2. es_food**\n",
    "**3. es_transportation**\n",
    "\n",
    "Two sectors that exhibited the most fraudulent transactions which were **es_sportsandtoys** and **es_health**."
   ]
  },
  {
   "cell_type": "code",
   "execution_count": 154,
   "metadata": {},
   "outputs": [
    {
     "data": {
      "text/html": [
       "<div>\n",
       "<style scoped>\n",
       "    .dataframe tbody tr th:only-of-type {\n",
       "        vertical-align: middle;\n",
       "    }\n",
       "\n",
       "    .dataframe tbody tr th {\n",
       "        vertical-align: top;\n",
       "    }\n",
       "\n",
       "    .dataframe thead th {\n",
       "        text-align: right;\n",
       "    }\n",
       "</style>\n",
       "<table border=\"1\" class=\"dataframe\">\n",
       "  <thead>\n",
       "    <tr style=\"text-align: right;\">\n",
       "      <th></th>\n",
       "      <th>age</th>\n",
       "      <th>gender</th>\n",
       "      <th>amount</th>\n",
       "      <th>fraud</th>\n",
       "      <th>category_es_barsandrestaurants</th>\n",
       "      <th>category_es_contents</th>\n",
       "      <th>category_es_fashion</th>\n",
       "      <th>category_es_food</th>\n",
       "      <th>category_es_health</th>\n",
       "      <th>category_es_home</th>\n",
       "      <th>category_es_hotelservices</th>\n",
       "      <th>category_es_hyper</th>\n",
       "      <th>category_es_leisure</th>\n",
       "      <th>category_es_otherservices</th>\n",
       "      <th>category_es_sportsandtoys</th>\n",
       "      <th>category_es_tech</th>\n",
       "      <th>category_es_transportation</th>\n",
       "      <th>category_es_travel</th>\n",
       "      <th>category_es_wellnessandbeauty</th>\n",
       "    </tr>\n",
       "  </thead>\n",
       "  <tbody>\n",
       "    <tr>\n",
       "      <th>0</th>\n",
       "      <td>4</td>\n",
       "      <td>2</td>\n",
       "      <td>4.55</td>\n",
       "      <td>0</td>\n",
       "      <td>0</td>\n",
       "      <td>0</td>\n",
       "      <td>0</td>\n",
       "      <td>0</td>\n",
       "      <td>0</td>\n",
       "      <td>0</td>\n",
       "      <td>0</td>\n",
       "      <td>0</td>\n",
       "      <td>0</td>\n",
       "      <td>0</td>\n",
       "      <td>0</td>\n",
       "      <td>0</td>\n",
       "      <td>1</td>\n",
       "      <td>0</td>\n",
       "      <td>0</td>\n",
       "    </tr>\n",
       "    <tr>\n",
       "      <th>1</th>\n",
       "      <td>2</td>\n",
       "      <td>2</td>\n",
       "      <td>39.68</td>\n",
       "      <td>0</td>\n",
       "      <td>0</td>\n",
       "      <td>0</td>\n",
       "      <td>0</td>\n",
       "      <td>0</td>\n",
       "      <td>0</td>\n",
       "      <td>0</td>\n",
       "      <td>0</td>\n",
       "      <td>0</td>\n",
       "      <td>0</td>\n",
       "      <td>0</td>\n",
       "      <td>0</td>\n",
       "      <td>0</td>\n",
       "      <td>1</td>\n",
       "      <td>0</td>\n",
       "      <td>0</td>\n",
       "    </tr>\n",
       "    <tr>\n",
       "      <th>2</th>\n",
       "      <td>4</td>\n",
       "      <td>1</td>\n",
       "      <td>26.89</td>\n",
       "      <td>0</td>\n",
       "      <td>0</td>\n",
       "      <td>0</td>\n",
       "      <td>0</td>\n",
       "      <td>0</td>\n",
       "      <td>0</td>\n",
       "      <td>0</td>\n",
       "      <td>0</td>\n",
       "      <td>0</td>\n",
       "      <td>0</td>\n",
       "      <td>0</td>\n",
       "      <td>0</td>\n",
       "      <td>0</td>\n",
       "      <td>1</td>\n",
       "      <td>0</td>\n",
       "      <td>0</td>\n",
       "    </tr>\n",
       "    <tr>\n",
       "      <th>3</th>\n",
       "      <td>3</td>\n",
       "      <td>2</td>\n",
       "      <td>17.25</td>\n",
       "      <td>0</td>\n",
       "      <td>0</td>\n",
       "      <td>0</td>\n",
       "      <td>0</td>\n",
       "      <td>0</td>\n",
       "      <td>0</td>\n",
       "      <td>0</td>\n",
       "      <td>0</td>\n",
       "      <td>0</td>\n",
       "      <td>0</td>\n",
       "      <td>0</td>\n",
       "      <td>0</td>\n",
       "      <td>0</td>\n",
       "      <td>1</td>\n",
       "      <td>0</td>\n",
       "      <td>0</td>\n",
       "    </tr>\n",
       "    <tr>\n",
       "      <th>4</th>\n",
       "      <td>5</td>\n",
       "      <td>2</td>\n",
       "      <td>35.72</td>\n",
       "      <td>0</td>\n",
       "      <td>0</td>\n",
       "      <td>0</td>\n",
       "      <td>0</td>\n",
       "      <td>0</td>\n",
       "      <td>0</td>\n",
       "      <td>0</td>\n",
       "      <td>0</td>\n",
       "      <td>0</td>\n",
       "      <td>0</td>\n",
       "      <td>0</td>\n",
       "      <td>0</td>\n",
       "      <td>0</td>\n",
       "      <td>1</td>\n",
       "      <td>0</td>\n",
       "      <td>0</td>\n",
       "    </tr>\n",
       "  </tbody>\n",
       "</table>\n",
       "</div>"
      ],
      "text/plain": [
       "   age  gender  amount  fraud  category_es_barsandrestaurants  \\\n",
       "0    4       2    4.55      0                               0   \n",
       "1    2       2   39.68      0                               0   \n",
       "2    4       1   26.89      0                               0   \n",
       "3    3       2   17.25      0                               0   \n",
       "4    5       2   35.72      0                               0   \n",
       "\n",
       "   category_es_contents  category_es_fashion  category_es_food  \\\n",
       "0                     0                    0                 0   \n",
       "1                     0                    0                 0   \n",
       "2                     0                    0                 0   \n",
       "3                     0                    0                 0   \n",
       "4                     0                    0                 0   \n",
       "\n",
       "   category_es_health  category_es_home  category_es_hotelservices  \\\n",
       "0                   0                 0                          0   \n",
       "1                   0                 0                          0   \n",
       "2                   0                 0                          0   \n",
       "3                   0                 0                          0   \n",
       "4                   0                 0                          0   \n",
       "\n",
       "   category_es_hyper  category_es_leisure  category_es_otherservices  \\\n",
       "0                  0                    0                          0   \n",
       "1                  0                    0                          0   \n",
       "2                  0                    0                          0   \n",
       "3                  0                    0                          0   \n",
       "4                  0                    0                          0   \n",
       "\n",
       "   category_es_sportsandtoys  category_es_tech  category_es_transportation  \\\n",
       "0                          0                 0                           1   \n",
       "1                          0                 0                           1   \n",
       "2                          0                 0                           1   \n",
       "3                          0                 0                           1   \n",
       "4                          0                 0                           1   \n",
       "\n",
       "   category_es_travel  category_es_wellnessandbeauty  \n",
       "0                   0                              0  \n",
       "1                   0                              0  \n",
       "2                   0                              0  \n",
       "3                   0                              0  \n",
       "4                   0                              0  "
      ]
     },
     "execution_count": 154,
     "metadata": {},
     "output_type": "execute_result"
    }
   ],
   "source": [
    "bankFraud = pd.get_dummies(bankFraud, columns=['category'])\n",
    "bankFraud.head()"
   ]
  },
  {
   "cell_type": "code",
   "execution_count": 155,
   "metadata": {},
   "outputs": [
    {
     "data": {
      "text/html": [
       "<div>\n",
       "<style scoped>\n",
       "    .dataframe tbody tr th:only-of-type {\n",
       "        vertical-align: middle;\n",
       "    }\n",
       "\n",
       "    .dataframe tbody tr th {\n",
       "        vertical-align: top;\n",
       "    }\n",
       "\n",
       "    .dataframe thead th {\n",
       "        text-align: right;\n",
       "    }\n",
       "</style>\n",
       "<table border=\"1\" class=\"dataframe\">\n",
       "  <thead>\n",
       "    <tr style=\"text-align: right;\">\n",
       "      <th>fraud</th>\n",
       "      <th>0</th>\n",
       "      <th>1</th>\n",
       "    </tr>\n",
       "    <tr>\n",
       "      <th>age</th>\n",
       "      <th></th>\n",
       "      <th></th>\n",
       "    </tr>\n",
       "  </thead>\n",
       "  <tbody>\n",
       "    <tr>\n",
       "      <th>0</th>\n",
       "      <td>2404</td>\n",
       "      <td>48</td>\n",
       "    </tr>\n",
       "    <tr>\n",
       "      <th>1</th>\n",
       "      <td>57263</td>\n",
       "      <td>689</td>\n",
       "    </tr>\n",
       "    <tr>\n",
       "      <th>2</th>\n",
       "      <td>184781</td>\n",
       "      <td>2344</td>\n",
       "    </tr>\n",
       "    <tr>\n",
       "      <th>3</th>\n",
       "      <td>145187</td>\n",
       "      <td>1755</td>\n",
       "    </tr>\n",
       "    <tr>\n",
       "      <th>4</th>\n",
       "      <td>107608</td>\n",
       "      <td>1410</td>\n",
       "    </tr>\n",
       "    <tr>\n",
       "      <th>5</th>\n",
       "      <td>61952</td>\n",
       "      <td>686</td>\n",
       "    </tr>\n",
       "    <tr>\n",
       "      <th>6</th>\n",
       "      <td>26511</td>\n",
       "      <td>261</td>\n",
       "    </tr>\n",
       "    <tr>\n",
       "      <th>7</th>\n",
       "      <td>1170</td>\n",
       "      <td>7</td>\n",
       "    </tr>\n",
       "  </tbody>\n",
       "</table>\n",
       "</div>"
      ],
      "text/plain": [
       "fraud       0     1\n",
       "age                \n",
       "0        2404    48\n",
       "1       57263   689\n",
       "2      184781  2344\n",
       "3      145187  1755\n",
       "4      107608  1410\n",
       "5       61952   686\n",
       "6       26511   261\n",
       "7        1170     7"
      ]
     },
     "execution_count": 155,
     "metadata": {},
     "output_type": "execute_result"
    }
   ],
   "source": [
    "bankFraud.pivot_table('amount', index='age', columns='fraud', aggfunc='count')\n",
    "# 0: <= 18 \n",
    "# 1: 19-25 \n",
    "# 2: 26-35 \n",
    "# 3: 36-45\n",
    "# 4: 46:55\n",
    "# 5: 56:65\n",
    "# 6: > 65 \n",
    "# 7: Unknown ('U' has been changed to 7)"
   ]
  },
  {
   "cell_type": "markdown",
   "metadata": {},
   "source": [
    "We have 1178 \"Unknown\" values for age out of which 7 of these transactions were engaged in fraudulent activities. Initially this appeared insignificant, but upon further exploring, we determined that all the Unknown values for age were interlinked to the Enterprise values in the gender column."
   ]
  },
  {
   "cell_type": "code",
   "execution_count": 156,
   "metadata": {},
   "outputs": [
    {
     "data": {
      "text/plain": [
       "<matplotlib.axes._subplots.AxesSubplot at 0x24f8c569f40>"
      ]
     },
     "execution_count": 156,
     "metadata": {},
     "output_type": "execute_result"
    },
    {
     "data": {
      "image/png": "[encoded data removed]",
      "text/plain": [
       "<Figure size 432x288 with 1 Axes>"
      ]
     },
     "metadata": {
      "needs_background": "light"
     },
     "output_type": "display_data"
    }
   ],
   "source": [
    "bankFraud_fraud['age'].hist(bins=8, edgecolor='blue', linewidth=2)\n",
    "# 0: <= 18 \n",
    "# 1: 19-25 \n",
    "# 2: 26-35 \n",
    "# 3: 36-45\n",
    "# 4: 46:55\n",
    "# 5: 56:65\n",
    "# 6: > 65 \n",
    "# 7: Unknown ('U' has been changed to 7)"
   ]
  },
  {
   "cell_type": "markdown",
   "metadata": {},
   "source": [
    "From the histogram above, we can determine that fraudulent activities are more common amongst people ranging from the age group of 26-55"
   ]
  },
  {
   "cell_type": "code",
   "execution_count": 157,
   "metadata": {},
   "outputs": [],
   "source": [
    "#bankFraud_fraud.pivot_table('amount',index='customer', columns='fraud', aggfunc='sum')"
   ]
  },
  {
   "cell_type": "markdown",
   "metadata": {},
   "source": [
    "## Features"
   ]
  },
  {
   "cell_type": "code",
   "execution_count": 158,
   "metadata": {},
   "outputs": [],
   "source": [
    "label = bankFraud['fraud']\n",
    "features = bankFraud.drop('fraud', axis=1)"
   ]
  },
  {
   "cell_type": "code",
   "execution_count": 197,
   "metadata": {},
   "outputs": [],
   "source": [
    "trainF, testF, trainL, testL = train_test_split(features, label, test_size=0.4, random_state=42)"
   ]
  },
  {
   "cell_type": "code",
   "execution_count": 160,
   "metadata": {},
   "outputs": [
    {
     "name": "stdout",
     "output_type": "stream",
     "text": [
      "0.6\n",
      "0.4\n"
     ]
    }
   ],
   "source": [
    "for dataset in [trainF, testF]:\n",
    "    ratio = round(len(dataset) / len(features), 2)\n",
    "    print(ratio)"
   ]
  },
  {
   "cell_type": "code",
   "execution_count": 161,
   "metadata": {},
   "outputs": [
    {
     "name": "stdout",
     "output_type": "stream",
     "text": [
      "[ 0  1  3  4  5  6  7  8  9 10 11 12 13 14 15 16 17]\n"
     ]
    }
   ],
   "source": [
    "categorical_features_indices = np.where(features.dtypes != np.float)[0]\n",
    "print(categorical_features_indices)"
   ]
  },
  {
   "cell_type": "markdown",
   "metadata": {},
   "source": [
    "## Machine Learning Model"
   ]
  },
  {
   "cell_type": "markdown",
   "metadata": {},
   "source": [
    "Model Chosen: **CatBoost**. We can use CatBoost without any explicit pre-processing to convert categories into numbers. CatBoost converts categorical values into numbers using various statistics on combinations of categorical features and combinations of categorical and numerical features"
   ]
  },
  {
   "cell_type": "code",
   "execution_count": 162,
   "metadata": {},
   "outputs": [],
   "source": [
    "#!pip3 install catboost\n",
    "\n",
    "#from sklearn.model_selection import train_test_split\n",
    "#from catboost import CatBoostRegressor\n",
    "#from sklearn.metrics import mean_absolute_error"
   ]
  },
  {
   "cell_type": "code",
   "execution_count": 163,
   "metadata": {},
   "outputs": [],
   "source": [
    "#model=CatBoostRegressor(iterations=50, depth=3, learning_rate=0.1, loss_function='RMSE')"
   ]
  },
  {
   "cell_type": "code",
   "execution_count": 164,
   "metadata": {},
   "outputs": [],
   "source": [
    "#model.fit(trainF, trainL,cat_features=categorical_features_indices,eval_set=(testF, testL),plot=True)"
   ]
  },
  {
   "cell_type": "code",
   "execution_count": 165,
   "metadata": {},
   "outputs": [],
   "source": [
    "#msae = mean_absolute_error(trainL, model.predict(trainF))\n",
    "#print(msae)"
   ]
  },
  {
   "cell_type": "code",
   "execution_count": 166,
   "metadata": {},
   "outputs": [],
   "source": [
    "#msae = mean_absolute_error(testL, model.predict(testF))\n",
    "#print(msae)"
   ]
  },
  {
   "cell_type": "markdown",
   "metadata": {},
   "source": [
    "## Alternate ML Model\n",
    "### Random Forest Classifier"
   ]
  },
  {
   "cell_type": "code",
   "execution_count": 167,
   "metadata": {},
   "outputs": [],
   "source": [
    "# To train the machine learning model, we first need to one hot-encode the columns for customer and merchant.\n",
    "\n",
    "#bankFraud = pd.get_dummies(bankFraud, columns=['customer','merchant'])"
   ]
  },
  {
   "cell_type": "code",
   "execution_count": 207,
   "metadata": {},
   "outputs": [
    {
     "data": {
      "text/plain": [
       "RandomForestClassifier(n_estimators=20)"
      ]
     },
     "execution_count": 207,
     "metadata": {},
     "output_type": "execute_result"
    }
   ],
   "source": [
    "from sklearn.ensemble import RandomForestClassifier\n",
    "model = RandomForestClassifier(n_estimators=20)\n",
    "model.fit(trainF, trainL)"
   ]
  },
  {
   "cell_type": "code",
   "execution_count": 208,
   "metadata": {},
   "outputs": [
    {
     "data": {
      "text/plain": [
       "0.9926398491779271"
      ]
     },
     "execution_count": 208,
     "metadata": {},
     "output_type": "execute_result"
    }
   ],
   "source": [
    "model.score(testF, testL)"
   ]
  },
  {
   "cell_type": "code",
   "execution_count": 200,
   "metadata": {},
   "outputs": [],
   "source": [
    "label_predicted = model.predict(testF)"
   ]
  },
  {
   "cell_type": "code",
   "execution_count": 203,
   "metadata": {},
   "outputs": [
    {
     "data": {
      "text/plain": [
       "array([[233992,    750],\n",
       "       [   989,   1900]], dtype=int64)"
      ]
     },
     "execution_count": 203,
     "metadata": {},
     "output_type": "execute_result"
    }
   ],
   "source": [
    "from sklearn.metrics import confusion_matrix\n",
    "cm = confusion_matrix(testL, label_predicted)\n",
    "cm"
   ]
  },
  {
   "cell_type": "code",
   "execution_count": 206,
   "metadata": {},
   "outputs": [
    {
     "data": {
      "text/plain": [
       "Text(69.0, 0.5, 'Truth')"
      ]
     },
     "execution_count": 206,
     "metadata": {},
     "output_type": "execute_result"
    },
    {
     "data": {
      "image/png": "[encoded data removed]",
      "text/plain": [
       "<Figure size 720x504 with 2 Axes>"
      ]
     },
     "metadata": {
      "needs_background": "light"
     },
     "output_type": "display_data"
    }
   ],
   "source": [
    "import matplotlib.pyplot as plt\n",
    "plt.figure(figsize=(10,7))\n",
    "sns.heatmap(cm, annot=True)\n",
    "plt.xlabel('Predicted')\n",
    "plt.ylabel('Truth')"
   ]
  },
  {
   "cell_type": "code",
   "execution_count": null,
   "metadata": {},
   "outputs": [],
   "source": []
  }
 ],
 "metadata": {
  "kernelspec": {
   "display_name": "Python 3",
   "language": "python",
   "name": "python3"
  },
  "language_info": {
   "codemirror_mode": {
    "name": "ipython",
    "version": 3
   },
   "file_extension": ".py",
   "mimetype": "text/x-python",
   "name": "python",
   "nbconvert_exporter": "python",
   "pygments_lexer": "ipython3",
   "version": "3.8.3"
  }
 },
 "nbformat": 4,
 "nbformat_minor": 4
}
